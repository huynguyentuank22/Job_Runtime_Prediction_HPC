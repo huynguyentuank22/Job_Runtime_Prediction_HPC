{
 "cells": [
  {
   "cell_type": "code",
   "execution_count": 11,
   "id": "7a888f59",
   "metadata": {},
   "outputs": [],
   "source": [
    "import pandas as pd\n",
    "import numpy as np\n",
    "import time\n",
    "from preprocessing import *\n",
    "from JREP import JREP\n",
    "\n",
    "set_seed(42)"
   ]
  },
  {
   "cell_type": "code",
   "execution_count": 12,
   "id": "5c16d23f",
   "metadata": {},
   "outputs": [
    {
     "name": "stdout",
     "output_type": "stream",
     "text": [
      "<class 'pandas.core.frame.DataFrame'>\n",
      "RangeIndex: 68936 entries, 0 to 68935\n",
      "Data columns (total 18 columns):\n",
      " #   Column                    Non-Null Count  Dtype  \n",
      "---  ------                    --------------  -----  \n",
      " 0   job_id                    68936 non-null  float64\n",
      " 1   submit_time               68936 non-null  float64\n",
      " 2   wait_time                 68936 non-null  float64\n",
      " 3   run_time                  68936 non-null  float64\n",
      " 4   num_allocated_processors  68936 non-null  float64\n",
      " 5   avg_cpu_time_used         68936 non-null  float64\n",
      " 6   used_memory               68936 non-null  float64\n",
      " 7   requested_processors      68936 non-null  float64\n",
      " 8   requested_time            68936 non-null  float64\n",
      " 9   requested_memory          68936 non-null  float64\n",
      " 10  status                    68936 non-null  float64\n",
      " 11  user_id                   68936 non-null  float64\n",
      " 12  group_id                  68936 non-null  float64\n",
      " 13  executable_id             68936 non-null  float64\n",
      " 14  queue_id                  68936 non-null  float64\n",
      " 15  partition_id              68936 non-null  float64\n",
      " 16  preceding_job_id          68936 non-null  float64\n",
      " 17  think_time                68936 non-null  float64\n",
      "dtypes: float64(18)\n",
      "memory usage: 9.5 MB\n"
     ]
    }
   ],
   "source": [
    "df = pd.read_csv(r'output_csv\\ANL-Intrepid-2009-1.swf.csv')\n",
    "df.info()"
   ]
  },
  {
   "cell_type": "code",
   "execution_count": 13,
   "id": "38614446",
   "metadata": {},
   "outputs": [
    {
     "data": {
      "application/vnd.microsoft.datawrangler.viewer.v0+json": {
       "columns": [
        {
         "name": "index",
         "rawType": "int64",
         "type": "integer"
        },
        {
         "name": "job_id",
         "rawType": "float64",
         "type": "float"
        },
        {
         "name": "submit_time",
         "rawType": "float64",
         "type": "float"
        },
        {
         "name": "wait_time",
         "rawType": "float64",
         "type": "float"
        },
        {
         "name": "run_time",
         "rawType": "float64",
         "type": "float"
        },
        {
         "name": "num_allocated_processors",
         "rawType": "float64",
         "type": "float"
        },
        {
         "name": "avg_cpu_time_used",
         "rawType": "float64",
         "type": "float"
        },
        {
         "name": "used_memory",
         "rawType": "float64",
         "type": "float"
        },
        {
         "name": "requested_processors",
         "rawType": "float64",
         "type": "float"
        },
        {
         "name": "requested_time",
         "rawType": "float64",
         "type": "float"
        },
        {
         "name": "requested_memory",
         "rawType": "float64",
         "type": "float"
        },
        {
         "name": "status",
         "rawType": "float64",
         "type": "float"
        },
        {
         "name": "user_id",
         "rawType": "float64",
         "type": "float"
        },
        {
         "name": "group_id",
         "rawType": "float64",
         "type": "float"
        },
        {
         "name": "executable_id",
         "rawType": "float64",
         "type": "float"
        },
        {
         "name": "queue_id",
         "rawType": "float64",
         "type": "float"
        },
        {
         "name": "partition_id",
         "rawType": "float64",
         "type": "float"
        },
        {
         "name": "preceding_job_id",
         "rawType": "float64",
         "type": "float"
        },
        {
         "name": "think_time",
         "rawType": "float64",
         "type": "float"
        }
       ],
       "ref": "884bb738-7fcb-4217-be2c-19d6eb3e9924",
       "rows": [
        [
         "0",
         "1.0",
         "0.0",
         "6680.0",
         "7560.0",
         "2048.0",
         "-1.0",
         "-1.0",
         "2048.0",
         "10800.0",
         "-1.0",
         "-1.0",
         "1.0",
         "-1.0",
         "-1.0",
         "1.0",
         "-1.0",
         "-1.0",
         "-1.0"
        ],
        [
         "1",
         "2.0",
         "7.0",
         "14297.0",
         "7568.0",
         "2048.0",
         "-1.0",
         "-1.0",
         "2048.0",
         "10800.0",
         "-1.0",
         "-1.0",
         "1.0",
         "-1.0",
         "-1.0",
         "1.0",
         "-1.0",
         "-1.0",
         "-1.0"
        ],
        [
         "2",
         "3.0",
         "1590.0",
         "17322.0",
         "7561.0",
         "2048.0",
         "-1.0",
         "-1.0",
         "2048.0",
         "10800.0",
         "-1.0",
         "-1.0",
         "1.0",
         "-1.0",
         "-1.0",
         "1.0",
         "-1.0",
         "-1.0",
         "-1.0"
        ],
        [
         "3",
         "4.0",
         "2205.0",
         "61.0",
         "14972.0",
         "8192.0",
         "-1.0",
         "-1.0",
         "8192.0",
         "21600.0",
         "-1.0",
         "-1.0",
         "2.0",
         "-1.0",
         "-1.0",
         "2.0",
         "-1.0",
         "-1.0",
         "-1.0"
        ],
        [
         "4",
         "5.0",
         "2566.0",
         "17357.0",
         "7571.0",
         "2048.0",
         "-1.0",
         "-1.0",
         "2048.0",
         "10800.0",
         "-1.0",
         "-1.0",
         "1.0",
         "-1.0",
         "-1.0",
         "1.0",
         "-1.0",
         "-1.0",
         "-1.0"
        ]
       ],
       "shape": {
        "columns": 18,
        "rows": 5
       }
      },
      "text/html": [
       "<div>\n",
       "<style scoped>\n",
       "    .dataframe tbody tr th:only-of-type {\n",
       "        vertical-align: middle;\n",
       "    }\n",
       "\n",
       "    .dataframe tbody tr th {\n",
       "        vertical-align: top;\n",
       "    }\n",
       "\n",
       "    .dataframe thead th {\n",
       "        text-align: right;\n",
       "    }\n",
       "</style>\n",
       "<table border=\"1\" class=\"dataframe\">\n",
       "  <thead>\n",
       "    <tr style=\"text-align: right;\">\n",
       "      <th></th>\n",
       "      <th>job_id</th>\n",
       "      <th>submit_time</th>\n",
       "      <th>wait_time</th>\n",
       "      <th>run_time</th>\n",
       "      <th>num_allocated_processors</th>\n",
       "      <th>avg_cpu_time_used</th>\n",
       "      <th>used_memory</th>\n",
       "      <th>requested_processors</th>\n",
       "      <th>requested_time</th>\n",
       "      <th>requested_memory</th>\n",
       "      <th>status</th>\n",
       "      <th>user_id</th>\n",
       "      <th>group_id</th>\n",
       "      <th>executable_id</th>\n",
       "      <th>queue_id</th>\n",
       "      <th>partition_id</th>\n",
       "      <th>preceding_job_id</th>\n",
       "      <th>think_time</th>\n",
       "    </tr>\n",
       "  </thead>\n",
       "  <tbody>\n",
       "    <tr>\n",
       "      <th>0</th>\n",
       "      <td>1.0</td>\n",
       "      <td>0.0</td>\n",
       "      <td>6680.0</td>\n",
       "      <td>7560.0</td>\n",
       "      <td>2048.0</td>\n",
       "      <td>-1.0</td>\n",
       "      <td>-1.0</td>\n",
       "      <td>2048.0</td>\n",
       "      <td>10800.0</td>\n",
       "      <td>-1.0</td>\n",
       "      <td>-1.0</td>\n",
       "      <td>1.0</td>\n",
       "      <td>-1.0</td>\n",
       "      <td>-1.0</td>\n",
       "      <td>1.0</td>\n",
       "      <td>-1.0</td>\n",
       "      <td>-1.0</td>\n",
       "      <td>-1.0</td>\n",
       "    </tr>\n",
       "    <tr>\n",
       "      <th>1</th>\n",
       "      <td>2.0</td>\n",
       "      <td>7.0</td>\n",
       "      <td>14297.0</td>\n",
       "      <td>7568.0</td>\n",
       "      <td>2048.0</td>\n",
       "      <td>-1.0</td>\n",
       "      <td>-1.0</td>\n",
       "      <td>2048.0</td>\n",
       "      <td>10800.0</td>\n",
       "      <td>-1.0</td>\n",
       "      <td>-1.0</td>\n",
       "      <td>1.0</td>\n",
       "      <td>-1.0</td>\n",
       "      <td>-1.0</td>\n",
       "      <td>1.0</td>\n",
       "      <td>-1.0</td>\n",
       "      <td>-1.0</td>\n",
       "      <td>-1.0</td>\n",
       "    </tr>\n",
       "    <tr>\n",
       "      <th>2</th>\n",
       "      <td>3.0</td>\n",
       "      <td>1590.0</td>\n",
       "      <td>17322.0</td>\n",
       "      <td>7561.0</td>\n",
       "      <td>2048.0</td>\n",
       "      <td>-1.0</td>\n",
       "      <td>-1.0</td>\n",
       "      <td>2048.0</td>\n",
       "      <td>10800.0</td>\n",
       "      <td>-1.0</td>\n",
       "      <td>-1.0</td>\n",
       "      <td>1.0</td>\n",
       "      <td>-1.0</td>\n",
       "      <td>-1.0</td>\n",
       "      <td>1.0</td>\n",
       "      <td>-1.0</td>\n",
       "      <td>-1.0</td>\n",
       "      <td>-1.0</td>\n",
       "    </tr>\n",
       "    <tr>\n",
       "      <th>3</th>\n",
       "      <td>4.0</td>\n",
       "      <td>2205.0</td>\n",
       "      <td>61.0</td>\n",
       "      <td>14972.0</td>\n",
       "      <td>8192.0</td>\n",
       "      <td>-1.0</td>\n",
       "      <td>-1.0</td>\n",
       "      <td>8192.0</td>\n",
       "      <td>21600.0</td>\n",
       "      <td>-1.0</td>\n",
       "      <td>-1.0</td>\n",
       "      <td>2.0</td>\n",
       "      <td>-1.0</td>\n",
       "      <td>-1.0</td>\n",
       "      <td>2.0</td>\n",
       "      <td>-1.0</td>\n",
       "      <td>-1.0</td>\n",
       "      <td>-1.0</td>\n",
       "    </tr>\n",
       "    <tr>\n",
       "      <th>4</th>\n",
       "      <td>5.0</td>\n",
       "      <td>2566.0</td>\n",
       "      <td>17357.0</td>\n",
       "      <td>7571.0</td>\n",
       "      <td>2048.0</td>\n",
       "      <td>-1.0</td>\n",
       "      <td>-1.0</td>\n",
       "      <td>2048.0</td>\n",
       "      <td>10800.0</td>\n",
       "      <td>-1.0</td>\n",
       "      <td>-1.0</td>\n",
       "      <td>1.0</td>\n",
       "      <td>-1.0</td>\n",
       "      <td>-1.0</td>\n",
       "      <td>1.0</td>\n",
       "      <td>-1.0</td>\n",
       "      <td>-1.0</td>\n",
       "      <td>-1.0</td>\n",
       "    </tr>\n",
       "  </tbody>\n",
       "</table>\n",
       "</div>"
      ],
      "text/plain": [
       "   job_id  submit_time  wait_time  run_time  num_allocated_processors  \\\n",
       "0     1.0          0.0     6680.0    7560.0                    2048.0   \n",
       "1     2.0          7.0    14297.0    7568.0                    2048.0   \n",
       "2     3.0       1590.0    17322.0    7561.0                    2048.0   \n",
       "3     4.0       2205.0       61.0   14972.0                    8192.0   \n",
       "4     5.0       2566.0    17357.0    7571.0                    2048.0   \n",
       "\n",
       "   avg_cpu_time_used  used_memory  requested_processors  requested_time  \\\n",
       "0               -1.0         -1.0                2048.0         10800.0   \n",
       "1               -1.0         -1.0                2048.0         10800.0   \n",
       "2               -1.0         -1.0                2048.0         10800.0   \n",
       "3               -1.0         -1.0                8192.0         21600.0   \n",
       "4               -1.0         -1.0                2048.0         10800.0   \n",
       "\n",
       "   requested_memory  status  user_id  group_id  executable_id  queue_id  \\\n",
       "0              -1.0    -1.0      1.0      -1.0           -1.0       1.0   \n",
       "1              -1.0    -1.0      1.0      -1.0           -1.0       1.0   \n",
       "2              -1.0    -1.0      1.0      -1.0           -1.0       1.0   \n",
       "3              -1.0    -1.0      2.0      -1.0           -1.0       2.0   \n",
       "4              -1.0    -1.0      1.0      -1.0           -1.0       1.0   \n",
       "\n",
       "   partition_id  preceding_job_id  think_time  \n",
       "0          -1.0              -1.0        -1.0  \n",
       "1          -1.0              -1.0        -1.0  \n",
       "2          -1.0              -1.0        -1.0  \n",
       "3          -1.0              -1.0        -1.0  \n",
       "4          -1.0              -1.0        -1.0  "
      ]
     },
     "execution_count": 13,
     "metadata": {},
     "output_type": "execute_result"
    }
   ],
   "source": [
    "df.head()"
   ]
  },
  {
   "cell_type": "code",
   "execution_count": 14,
   "id": "36dc7747",
   "metadata": {},
   "outputs": [],
   "source": [
    "feature_columns = ['requested_processors', 'requested_time', 'submit_time', 'wait_time', 'user_id', 'queue_id']\n",
    "target_column = 'run_time'\n",
    "\n",
    "X_train, X_test, Y_train, Y_test, scaler = prepare_data(df, feature_columns, target_column, statuss=-1)"
   ]
  },
  {
   "cell_type": "code",
   "execution_count": 15,
   "id": "712b70c4",
   "metadata": {},
   "outputs": [
    {
     "name": "stdout",
     "output_type": "stream",
     "text": [
      "RMSE: 5298.429655696097\n",
      "MAE: 1209.140398862311\n",
      "MSE: 28073356.816359866\n",
      "R2: 0.7140104559968754\n",
      "Training time: 1279.75 seconds\n"
     ]
    }
   ],
   "source": [
    "start = time.time()\n",
    "\n",
    "JREP_model = JREP()\n",
    "JREP_model.fit(X_train, Y_train)\n",
    "\n",
    "end = time.time()\n",
    "Y_pred = JREP_model.predict(X_test, scaler, len(feature_columns))\n",
    "rmse, mae, mse, r2 = JREP_model.evaluate_model(Y_test, Y_pred, scaler, len(feature_columns))\n",
    "\n",
    "print(f\"RMSE: {rmse}\")\n",
    "print(f\"MAE: {mae}\")\n",
    "print(f\"MSE: {mse}\")\n",
    "print(f\"R2: {r2}\")\n",
    "print(f'Training time: {end - start:.2f} seconds')"
   ]
  }
 ],
 "metadata": {
  "kernelspec": {
   "display_name": "Python 3",
   "language": "python",
   "name": "python3"
  },
  "language_info": {
   "codemirror_mode": {
    "name": "ipython",
    "version": 3
   },
   "file_extension": ".py",
   "mimetype": "text/x-python",
   "name": "python",
   "nbconvert_exporter": "python",
   "pygments_lexer": "ipython3",
   "version": "3.12.0"
  }
 },
 "nbformat": 4,
 "nbformat_minor": 5
}
