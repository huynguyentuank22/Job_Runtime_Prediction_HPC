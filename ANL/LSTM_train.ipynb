{
 "cells": [
  {
   "cell_type": "code",
   "execution_count": 1,
   "id": "fb91cf65",
   "metadata": {},
   "outputs": [],
   "source": [
    "import pandas as pd\n",
    "import torch\n",
    "from preprocessing import *\n",
    "from LSTM import LSTM\n",
    "import time\n",
    "set_seed(42)"
   ]
  },
  {
   "cell_type": "code",
   "execution_count": 2,
   "id": "ccacdd64",
   "metadata": {},
   "outputs": [
    {
     "name": "stdout",
     "output_type": "stream",
     "text": [
      "<class 'pandas.core.frame.DataFrame'>\n",
      "RangeIndex: 68936 entries, 0 to 68935\n",
      "Data columns (total 18 columns):\n",
      " #   Column                    Non-Null Count  Dtype  \n",
      "---  ------                    --------------  -----  \n",
      " 0   job_id                    68936 non-null  float64\n",
      " 1   submit_time               68936 non-null  float64\n",
      " 2   wait_time                 68936 non-null  float64\n",
      " 3   run_time                  68936 non-null  float64\n",
      " 4   num_allocated_processors  68936 non-null  float64\n",
      " 5   avg_cpu_time_used         68936 non-null  float64\n",
      " 6   used_memory               68936 non-null  float64\n",
      " 7   requested_processors      68936 non-null  float64\n",
      " 8   requested_time            68936 non-null  float64\n",
      " 9   requested_memory          68936 non-null  float64\n",
      " 10  status                    68936 non-null  float64\n",
      " 11  user_id                   68936 non-null  float64\n",
      " 12  group_id                  68936 non-null  float64\n",
      " 13  executable_id             68936 non-null  float64\n",
      " 14  queue_id                  68936 non-null  float64\n",
      " 15  partition_id              68936 non-null  float64\n",
      " 16  preceding_job_id          68936 non-null  float64\n",
      " 17  think_time                68936 non-null  float64\n",
      "dtypes: float64(18)\n",
      "memory usage: 9.5 MB\n"
     ]
    }
   ],
   "source": [
    "df = pd.read_csv(r'output_csv\\ANL-Intrepid-2009-1.swf.csv')\n",
    "df.info()"
   ]
  },
  {
   "cell_type": "code",
   "execution_count": 3,
   "id": "44d1ae9f",
   "metadata": {},
   "outputs": [],
   "source": [
    "feature_columns = ['requested_processors', 'requested_time', 'submit_time', 'wait_time', 'user_id', 'queue_id']\n",
    "target_column = 'run_time'\n",
    "\n",
    "# Hyperparameters\n",
    "input_dim = len(feature_columns)\n",
    "num_hidden = 64\n",
    "num_layers = 3\n",
    "dropout = 0.2\n",
    "num_epochs = 10\n",
    "lr = 0.001\n",
    "batch_size = 128  \n",
    "seq_len = 20\n",
    "device = torch.device('cuda' if torch.cuda.is_available() else 'cpu')\n",
    "\n",
    "dataloaders, scaler = prepare_data_seq(df, feature_columns, target_column, statuss=-1, seq_len=seq_len, batch_size=batch_size)"
   ]
  },
  {
   "cell_type": "code",
   "execution_count": 4,
   "id": "d3622495",
   "metadata": {},
   "outputs": [
    {
     "name": "stdout",
     "output_type": "stream",
     "text": [
      "Epoch [1/10], Train Loss: 0.1376, Val Loss: 0.1757\n",
      "Val RMSE: 7046.7864, Val MAE: 4020.3464, Val MSE: 49657199.1997, Val R2: 0.6015\n",
      "Model saved at epoch 1 with validation loss: 0.1757\n",
      "Epoch [2/10], Train Loss: 0.1037, Val Loss: 0.1756\n",
      "Val RMSE: 7088.6480, Val MAE: 3902.8084, Val MSE: 50248930.1810, Val R2: 0.5967\n",
      "Model saved at epoch 2 with validation loss: 0.1756\n",
      "Epoch [3/10], Train Loss: 0.1003, Val Loss: 0.2032\n",
      "Val RMSE: 7563.6213, Val MAE: 4271.9220, Val MSE: 57208366.7479, Val R2: 0.5409\n",
      "Epoch [4/10], Train Loss: 0.0984, Val Loss: 0.2093\n",
      "Val RMSE: 7662.6043, Val MAE: 4344.4892, Val MSE: 58715504.8216, Val R2: 0.5288\n",
      "Epoch [5/10], Train Loss: 0.0969, Val Loss: 0.2143\n",
      "Val RMSE: 7814.5168, Val MAE: 4447.6918, Val MSE: 61066672.3183, Val R2: 0.5099\n",
      "Epoch [6/10], Train Loss: 0.0954, Val Loss: 0.2187\n",
      "Val RMSE: 7884.1491, Val MAE: 4473.8066, Val MSE: 62159806.6702, Val R2: 0.5011\n",
      "Epoch [7/10], Train Loss: 0.0942, Val Loss: 0.2284\n",
      "Val RMSE: 8050.1381, Val MAE: 4633.5885, Val MSE: 64804723.1116, Val R2: 0.4799\n",
      "Early stopping triggered\n",
      "\n",
      "Final Test Metrics:\n",
      "Test RMSE: 8050.1381, Test MAE: 4633.5885, Test MSE: 64804723.1116, Test R2: 0.4799\n",
      "Training Time: 228.27 seconds\n"
     ]
    }
   ],
   "source": [
    "start = time.time()\n",
    "\n",
    "# Initialize the model\n",
    "model = LSTM(input_dim, num_hidden, num_layers, dropout).to(device)\n",
    "\n",
    "# Train the model\n",
    "model.train_model(model, dataloaders['train'], dataloaders['test'], num_epochs, lr, scaler)\n",
    "\n",
    "end = time.time()\n",
    "\n",
    "# Evaluate the model\n",
    "rmse, mae, mse, r2 = model.evaluate_model(model, dataloaders['test'], scaler, input_dim)\n",
    "\n",
    "print(f'\\nFinal Test Metrics:')\n",
    "print(f'Test RMSE: {rmse:.4f}, Test MAE: {mae:.4f}, Test MSE: {mse:.4f}, Test R2: {r2:.4f}')\n",
    "print(f'Training Time: {end - start:.2f} seconds')"
   ]
  },
  {
   "cell_type": "code",
   "execution_count": null,
   "id": "6a4b4e10",
   "metadata": {},
   "outputs": [],
   "source": []
  }
 ],
 "metadata": {
  "kernelspec": {
   "display_name": "Python 3",
   "language": "python",
   "name": "python3"
  },
  "language_info": {
   "codemirror_mode": {
    "name": "ipython",
    "version": 3
   },
   "file_extension": ".py",
   "mimetype": "text/x-python",
   "name": "python",
   "nbconvert_exporter": "python",
   "pygments_lexer": "ipython3",
   "version": "3.12.0"
  }
 },
 "nbformat": 4,
 "nbformat_minor": 5
}
