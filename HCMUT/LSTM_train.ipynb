{
 "cells": [
  {
   "cell_type": "code",
   "execution_count": 1,
   "id": "fb91cf65",
   "metadata": {},
   "outputs": [],
   "source": [
    "import pandas as pd\n",
    "import torch\n",
    "from preprocessing import *\n",
    "from LSTM import LSTM\n",
    "import time\n",
    "set_seed(42)"
   ]
  },
  {
   "cell_type": "code",
   "execution_count": 2,
   "id": "ccacdd64",
   "metadata": {},
   "outputs": [
    {
     "name": "stdout",
     "output_type": "stream",
     "text": [
      "<class 'pandas.core.frame.DataFrame'>\n",
      "RangeIndex: 15886 entries, 0 to 15885\n",
      "Data columns (total 18 columns):\n",
      " #   Column                    Non-Null Count  Dtype  \n",
      "---  ------                    --------------  -----  \n",
      " 0   job_id                    15886 non-null  float64\n",
      " 1   submit_time               15886 non-null  float64\n",
      " 2   wait_time                 15886 non-null  float64\n",
      " 3   run_time                  15886 non-null  float64\n",
      " 4   num_allocated_processors  15886 non-null  float64\n",
      " 5   avg_cpu_time_used         15886 non-null  float64\n",
      " 6   used_memory               15886 non-null  float64\n",
      " 7   requested_processors      15886 non-null  float64\n",
      " 8   requested_time            15886 non-null  float64\n",
      " 9   requested_memory          15886 non-null  float64\n",
      " 10  status                    15886 non-null  float64\n",
      " 11  user_id                   15886 non-null  float64\n",
      " 12  group_id                  15886 non-null  float64\n",
      " 13  executable_id             15886 non-null  float64\n",
      " 14  queue_id                  15886 non-null  float64\n",
      " 15  partition_id              15886 non-null  float64\n",
      " 16  preceding_job_id          15886 non-null  float64\n",
      " 17  think_time                15886 non-null  float64\n",
      "dtypes: float64(18)\n",
      "memory usage: 2.2 MB\n"
     ]
    }
   ],
   "source": [
    "df = pd.read_csv(r'output_csv\\HCMUT-SuperNodeXP-2017-1.0.swf.csv')\n",
    "# df = df.head(100)\n",
    "df.info()"
   ]
  },
  {
   "cell_type": "code",
   "execution_count": 3,
   "id": "44d1ae9f",
   "metadata": {},
   "outputs": [],
   "source": [
    "feature_columns = ['requested_processors', 'requested_time', 'avg_cpu_time_used', 'used_memory', 'submit_time', 'wait_time', 'user_id', 'group_id', 'executable_id', 'queue_id']\n",
    "target_column = 'run_time'\n",
    "\n",
    "# Hyperparameters\n",
    "input_dim = len(feature_columns)\n",
    "num_hidden = 64\n",
    "num_layers = 3\n",
    "dropout = 0.2\n",
    "num_epochs = 10\n",
    "lr = 0.001\n",
    "batch_size = 128  \n",
    "seq_len = 20\n",
    "device = torch.device('cuda' if torch.cuda.is_available() else 'cpu')\n",
    "\n",
    "dataloaders, scaler = prepare_data_seq(df, feature_columns, target_column, seq_len=seq_len, batch_size=batch_size)"
   ]
  },
  {
   "cell_type": "code",
   "execution_count": 4,
   "id": "d3622495",
   "metadata": {},
   "outputs": [
    {
     "name": "stdout",
     "output_type": "stream",
     "text": [
      "Epoch [1/10], Train Loss: 0.2697, Val Loss: 0.2945\n",
      "Val RMSE: 137330.1949, Val MAE: 88173.0121, Val MSE: 18859582430.3554, Val R2: -0.1952\n",
      "Model saved at epoch 1 with validation loss: 0.2945\n",
      "Epoch [2/10], Train Loss: 0.2642, Val Loss: 0.3047\n",
      "Val RMSE: 139810.7810, Val MAE: 89779.5161, Val MSE: 19547054497.0843, Val R2: -0.2388\n",
      "Epoch [3/10], Train Loss: 0.2618, Val Loss: 0.3047\n",
      "Val RMSE: 140109.8136, Val MAE: 89324.6984, Val MSE: 19630759873.8280, Val R2: -0.2441\n",
      "Epoch [4/10], Train Loss: 0.2597, Val Loss: 0.2835\n",
      "Val RMSE: 135604.4004, Val MAE: 84828.7821, Val MSE: 18388553396.8006, Val R2: -0.1654\n",
      "Model saved at epoch 4 with validation loss: 0.2835\n",
      "Epoch [5/10], Train Loss: 0.2552, Val Loss: 0.2837\n",
      "Val RMSE: 134341.1771, Val MAE: 85182.1979, Val MSE: 18047551867.7351, Val R2: -0.1438\n",
      "Epoch [6/10], Train Loss: 0.2473, Val Loss: 0.2802\n",
      "Val RMSE: 130773.7931, Val MAE: 84368.2674, Val MSE: 17101784960.1524, Val R2: -0.0838\n",
      "Model saved at epoch 6 with validation loss: 0.2802\n",
      "Epoch [7/10], Train Loss: 0.2303, Val Loss: 0.1974\n",
      "Val RMSE: 102135.6876, Val MAE: 69518.2152, Val MSE: 10431698672.0560, Val R2: 0.3389\n",
      "Model saved at epoch 7 with validation loss: 0.1974\n",
      "Epoch [8/10], Train Loss: 0.2093, Val Loss: 0.1387\n",
      "Val RMSE: 83350.0811, Val MAE: 56877.2609, Val MSE: 6947236025.9601, Val R2: 0.5597\n",
      "Model saved at epoch 8 with validation loss: 0.1387\n",
      "Epoch [9/10], Train Loss: 0.2008, Val Loss: 0.1366\n",
      "Val RMSE: 81792.7611, Val MAE: 57900.6272, Val MSE: 6690055763.9777, Val R2: 0.5760\n",
      "Model saved at epoch 9 with validation loss: 0.1366\n",
      "Epoch [10/10], Train Loss: 0.1840, Val Loss: 0.1674\n",
      "Val RMSE: 89078.8552, Val MAE: 65499.5447, Val MSE: 7935042448.6511, Val R2: 0.4971\n",
      "\n",
      "Final Test Metrics:\n",
      "Test RMSE: 89078.8552, Test MAE: 65499.5447, Test MSE: 7935042448.6511, Test R2: 0.4971\n",
      "Training Time: 49.77 seconds\n"
     ]
    }
   ],
   "source": [
    "start = time.time()\n",
    "\n",
    "# Initialize the model\n",
    "model = LSTM(input_dim, num_hidden, num_layers, dropout).to(device)\n",
    "\n",
    "# Train the model\n",
    "model.train_model(model, dataloaders['train'], dataloaders['test'], num_epochs, lr, scaler)\n",
    "\n",
    "end = time.time()\n",
    "\n",
    "# Evaluate the model\n",
    "rmse, mae, mse, r2 = model.evaluate_model(model, dataloaders['test'], scaler, input_dim)\n",
    "\n",
    "print(f'\\nFinal Test Metrics:')\n",
    "print(f'Test RMSE: {rmse:.4f}, Test MAE: {mae:.4f}, Test MSE: {mse:.4f}, Test R2: {r2:.4f}')\n",
    "print(f'Training Time: {end - start:.2f} seconds')"
   ]
  },
  {
   "cell_type": "code",
   "execution_count": null,
   "id": "6a4b4e10",
   "metadata": {},
   "outputs": [],
   "source": []
  }
 ],
 "metadata": {
  "kernelspec": {
   "display_name": "Python 3",
   "language": "python",
   "name": "python3"
  },
  "language_info": {
   "codemirror_mode": {
    "name": "ipython",
    "version": 3
   },
   "file_extension": ".py",
   "mimetype": "text/x-python",
   "name": "python",
   "nbconvert_exporter": "python",
   "pygments_lexer": "ipython3",
   "version": "3.12.0"
  }
 },
 "nbformat": 4,
 "nbformat_minor": 5
}
