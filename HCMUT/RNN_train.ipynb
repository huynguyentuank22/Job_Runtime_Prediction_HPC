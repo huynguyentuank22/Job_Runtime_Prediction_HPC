{
 "cells": [
  {
   "cell_type": "code",
   "execution_count": 1,
   "id": "c3f2036e",
   "metadata": {},
   "outputs": [],
   "source": [
    "import pandas as pd\n",
    "import torch\n",
    "from preprocessing import *\n",
    "from RNN import RNN\n",
    "import time\n",
    "set_seed(42)"
   ]
  },
  {
   "cell_type": "code",
   "execution_count": 2,
   "id": "403c5aa1",
   "metadata": {},
   "outputs": [
    {
     "name": "stdout",
     "output_type": "stream",
     "text": [
      "<class 'pandas.core.frame.DataFrame'>\n",
      "RangeIndex: 15886 entries, 0 to 15885\n",
      "Data columns (total 18 columns):\n",
      " #   Column                    Non-Null Count  Dtype  \n",
      "---  ------                    --------------  -----  \n",
      " 0   job_id                    15886 non-null  float64\n",
      " 1   submit_time               15886 non-null  float64\n",
      " 2   wait_time                 15886 non-null  float64\n",
      " 3   run_time                  15886 non-null  float64\n",
      " 4   num_allocated_processors  15886 non-null  float64\n",
      " 5   avg_cpu_time_used         15886 non-null  float64\n",
      " 6   used_memory               15886 non-null  float64\n",
      " 7   requested_processors      15886 non-null  float64\n",
      " 8   requested_time            15886 non-null  float64\n",
      " 9   requested_memory          15886 non-null  float64\n",
      " 10  status                    15886 non-null  float64\n",
      " 11  user_id                   15886 non-null  float64\n",
      " 12  group_id                  15886 non-null  float64\n",
      " 13  executable_id             15886 non-null  float64\n",
      " 14  queue_id                  15886 non-null  float64\n",
      " 15  partition_id              15886 non-null  float64\n",
      " 16  preceding_job_id          15886 non-null  float64\n",
      " 17  think_time                15886 non-null  float64\n",
      "dtypes: float64(18)\n",
      "memory usage: 2.2 MB\n"
     ]
    }
   ],
   "source": [
    "df = pd.read_csv(r'output_csv\\HCMUT-SuperNodeXP-2017-1.0.swf.csv')\n",
    "# df = df.head(100)\n",
    "df.info()"
   ]
  },
  {
   "cell_type": "code",
   "execution_count": 3,
   "id": "adb0b1df",
   "metadata": {},
   "outputs": [],
   "source": [
    "feature_columns = ['requested_processors', 'requested_time', 'avg_cpu_time_used', 'used_memory', 'submit_time', 'wait_time', 'user_id', 'group_id', 'executable_id', 'queue_id']\n",
    "target_column = 'run_time'\n",
    "\n",
    "# Hyperparameters\n",
    "input_dim = len(feature_columns)\n",
    "num_hidden = 64\n",
    "num_layers = 3\n",
    "dropout = 0.2\n",
    "num_epochs = 10\n",
    "lr = 0.001\n",
    "batch_size = 128  \n",
    "seq_len = 20\n",
    "device = torch.device('cuda' if torch.cuda.is_available() else 'cpu')\n",
    "\n",
    "dataloaders, scaler = prepare_data_seq(df, feature_columns, target_column, seq_len=seq_len, batch_size=batch_size)"
   ]
  },
  {
   "cell_type": "code",
   "execution_count": 4,
   "id": "e2c76eb1",
   "metadata": {},
   "outputs": [
    {
     "name": "stdout",
     "output_type": "stream",
     "text": [
      "Epoch [1/10], Train Loss: 0.2670, Val Loss: 0.3577\n",
      "Val RMSE: 145538.3905, Val MAE: 97915.9709, Val MSE: 21181423120.0757, Val R2: -0.4359\n",
      "Model saved at epoch 1 with validation loss: 0.3577\n",
      "Epoch [2/10], Train Loss: 0.2464, Val Loss: 0.2666\n",
      "Val RMSE: 123373.7684, Val MAE: 82946.0406, Val MSE: 15221086719.7929, Val R2: -0.0319\n",
      "Model saved at epoch 2 with validation loss: 0.2666\n",
      "Epoch [3/10], Train Loss: 0.2224, Val Loss: 0.2669\n",
      "Val RMSE: 120341.1458, Val MAE: 82478.5447, Val MSE: 14481991366.8126, Val R2: 0.0182\n",
      "Epoch [4/10], Train Loss: 0.2143, Val Loss: 0.2463\n",
      "Val RMSE: 114810.6718, Val MAE: 78743.6063, Val MSE: 13181490361.7762, Val R2: 0.1064\n",
      "Model saved at epoch 4 with validation loss: 0.2463\n",
      "Epoch [5/10], Train Loss: 0.2072, Val Loss: 0.2167\n",
      "Val RMSE: 108084.4413, Val MAE: 73634.4595, Val MSE: 11682246450.6907, Val R2: 0.2080\n",
      "Model saved at epoch 5 with validation loss: 0.2167\n",
      "Epoch [6/10], Train Loss: 0.1978, Val Loss: 0.1938\n",
      "Val RMSE: 102077.6243, Val MAE: 69316.0303, Val MSE: 10419841377.7034, Val R2: 0.2936\n",
      "Model saved at epoch 6 with validation loss: 0.1938\n",
      "Epoch [7/10], Train Loss: 0.1925, Val Loss: 0.1759\n",
      "Val RMSE: 97184.8514, Val MAE: 65332.6897, Val MSE: 9444895346.2647, Val R2: 0.3597\n",
      "Model saved at epoch 7 with validation loss: 0.1759\n",
      "Epoch [8/10], Train Loss: 0.1782, Val Loss: 0.1294\n",
      "Val RMSE: 83297.7510, Val MAE: 54488.5261, Val MSE: 6938515320.6264, Val R2: 0.5296\n",
      "Model saved at epoch 8 with validation loss: 0.1294\n",
      "Epoch [9/10], Train Loss: 0.1611, Val Loss: 0.0882\n",
      "Val RMSE: 69417.5365, Val MAE: 42484.6557, Val MSE: 4818794368.7147, Val R2: 0.6733\n",
      "Model saved at epoch 9 with validation loss: 0.0882\n",
      "Epoch [10/10], Train Loss: 0.1485, Val Loss: 0.0946\n",
      "Val RMSE: 71531.4180, Val MAE: 43083.4796, Val MSE: 5116743755.0733, Val R2: 0.6531\n",
      "\n",
      "Final Test Metrics:\n",
      "Test RMSE: 58014.0081, Test MAE: 40345.9523, Test MSE: 3365625131.6209, Test R2: 0.7867\n",
      "Training Time: 41.00 seconds\n"
     ]
    }
   ],
   "source": [
    "start = time.time()\n",
    "\n",
    "# Initialize the model\n",
    "model = RNN(input_dim, num_hidden, num_layers, dropout).to(device)\n",
    "\n",
    "# Train the model\n",
    "model.train_model(model, dataloaders['train'], dataloaders['val'], epochs=num_epochs, lr=lr, scaler=scaler)\n",
    "\n",
    "end = time.time()\n",
    "\n",
    "# Evaluate the model\n",
    "rmse, mae, mse, r2 = model.evaluate_model(model, dataloaders['test'], scaler, num_features=input_dim)\n",
    "\n",
    "print(f'\\nFinal Test Metrics:')\n",
    "print(f'Test RMSE: {rmse:.4f}, Test MAE: {mae:.4f}, Test MSE: {mse:.4f}, Test R2: {r2:.4f}')\n",
    "print(f'Training Time: {end - start:.2f} seconds')"
   ]
  }
 ],
 "metadata": {
  "kernelspec": {
   "display_name": "Python 3",
   "language": "python",
   "name": "python3"
  },
  "language_info": {
   "codemirror_mode": {
    "name": "ipython",
    "version": 3
   },
   "file_extension": ".py",
   "mimetype": "text/x-python",
   "name": "python",
   "nbconvert_exporter": "python",
   "pygments_lexer": "ipython3",
   "version": "3.12.0"
  }
 },
 "nbformat": 4,
 "nbformat_minor": 5
}
