{
 "cells": [
  {
   "cell_type": "code",
   "execution_count": 5,
   "id": "c3f2036e",
   "metadata": {},
   "outputs": [],
   "source": [
    "import pandas as pd\n",
    "import torch\n",
    "from preprocessing import *\n",
    "from RNN import RNN\n",
    "\n",
    "set_seed(42)"
   ]
  },
  {
   "cell_type": "code",
   "execution_count": 6,
   "id": "403c5aa1",
   "metadata": {},
   "outputs": [
    {
     "name": "stdout",
     "output_type": "stream",
     "text": [
      "<class 'pandas.core.frame.DataFrame'>\n",
      "RangeIndex: 68936 entries, 0 to 68935\n",
      "Data columns (total 18 columns):\n",
      " #   Column                    Non-Null Count  Dtype  \n",
      "---  ------                    --------------  -----  \n",
      " 0   job_id                    68936 non-null  float64\n",
      " 1   submit_time               68936 non-null  float64\n",
      " 2   wait_time                 68936 non-null  float64\n",
      " 3   run_time                  68936 non-null  float64\n",
      " 4   num_allocated_processors  68936 non-null  float64\n",
      " 5   avg_cpu_time_used         68936 non-null  float64\n",
      " 6   used_memory               68936 non-null  float64\n",
      " 7   requested_processors      68936 non-null  float64\n",
      " 8   requested_time            68936 non-null  float64\n",
      " 9   requested_memory          68936 non-null  float64\n",
      " 10  status                    68936 non-null  float64\n",
      " 11  user_id                   68936 non-null  float64\n",
      " 12  group_id                  68936 non-null  float64\n",
      " 13  executable_id             68936 non-null  float64\n",
      " 14  queue_id                  68936 non-null  float64\n",
      " 15  partition_id              68936 non-null  float64\n",
      " 16  preceding_job_id          68936 non-null  float64\n",
      " 17  think_time                68936 non-null  float64\n",
      "dtypes: float64(18)\n",
      "memory usage: 9.5 MB\n"
     ]
    }
   ],
   "source": [
    "df = pd.read_csv(r'output_csv\\ANL-Intrepid-2009-1.swf.csv')\n",
    "df.info()"
   ]
  },
  {
   "cell_type": "code",
   "execution_count": 7,
   "id": "adb0b1df",
   "metadata": {},
   "outputs": [],
   "source": [
    "feature_columns = ['requested_processors', 'requested_time', 'submit_time', 'wait_time', 'user_id', 'queue_id']\n",
    "target_column = 'run_time'\n",
    "\n",
    "# Hyperparameters\n",
    "input_dim = len(feature_columns)\n",
    "num_hidden = 64\n",
    "num_layers = 3\n",
    "dropout = 0.2\n",
    "num_epochs = 10\n",
    "lr = 0.001\n",
    "batch_size = 128  \n",
    "seq_len = 20\n",
    "device = torch.device('cuda' if torch.cuda.is_available() else 'cpu')\n",
    "\n",
    "dataloaders, scaler = prepare_data_seq(df, feature_columns, target_column, statuss=-1, seq_len=seq_len, batch_size=batch_size)"
   ]
  },
  {
   "cell_type": "code",
   "execution_count": 8,
   "id": "e2c76eb1",
   "metadata": {},
   "outputs": [
    {
     "name": "stdout",
     "output_type": "stream",
     "text": [
      "Epoch [1/10], Train Loss: 0.1213, Val Loss: 0.1402\n",
      "Val RMSE: 6456.7294, Val MAE: 3077.0321, Val MSE: 41689354.7208, Val R2: 0.6121\n",
      "Model saved at epoch 1 with validation loss: 0.1402\n",
      "Epoch [2/10], Train Loss: 0.1056, Val Loss: 0.1541\n",
      "Val RMSE: 6806.7342, Val MAE: 3191.0203, Val MSE: 46331629.9944, Val R2: 0.5689\n",
      "Epoch [3/10], Train Loss: 0.1016, Val Loss: 0.1660\n",
      "Val RMSE: 6992.2717, Val MAE: 3517.6344, Val MSE: 48891863.8086, Val R2: 0.5451\n",
      "Epoch [4/10], Train Loss: 0.1003, Val Loss: 0.1532\n",
      "Val RMSE: 6812.0609, Val MAE: 3126.5845, Val MSE: 46404173.1005, Val R2: 0.5682\n",
      "Epoch [5/10], Train Loss: 0.0985, Val Loss: 0.1635\n",
      "Val RMSE: 6974.2927, Val MAE: 3452.4460, Val MSE: 48640758.0950, Val R2: 0.5474\n",
      "Epoch [6/10], Train Loss: 0.0982, Val Loss: 0.1488\n",
      "Val RMSE: 6720.2735, Val MAE: 3146.5223, Val MSE: 45162075.6423, Val R2: 0.5798\n",
      "Early stopping triggered\n",
      "\n",
      "Final Test Metrics:\n",
      "Test RMSE: 8665.1158, Test MAE: 4976.3650, Test MSE: 75084231.5525, Test R2: 0.3974\n"
     ]
    }
   ],
   "source": [
    "# Initialize the model\n",
    "model = RNN(input_dim, num_hidden, num_layers, dropout).to(device)\n",
    "\n",
    "# Train the model\n",
    "model.train_model(model, dataloaders['train'], dataloaders['val'], epochs=num_epochs, lr=lr, scaler=scaler)\n",
    "\n",
    "# Evaluate the model\n",
    "rmse, mae, mse, r2 = model.evaluate_model(model, dataloaders['test'], scaler, num_features=input_dim)\n",
    "\n",
    "print(f'\\nFinal Test Metrics:')\n",
    "print(f'Test RMSE: {rmse:.4f}, Test MAE: {mae:.4f}, Test MSE: {mse:.4f}, Test R2: {r2:.4f}')"
   ]
  }
 ],
 "metadata": {
  "kernelspec": {
   "display_name": "Python 3",
   "language": "python",
   "name": "python3"
  },
  "language_info": {
   "codemirror_mode": {
    "name": "ipython",
    "version": 3
   },
   "file_extension": ".py",
   "mimetype": "text/x-python",
   "name": "python",
   "nbconvert_exporter": "python",
   "pygments_lexer": "ipython3",
   "version": "3.12.0"
  }
 },
 "nbformat": 4,
 "nbformat_minor": 5
}
